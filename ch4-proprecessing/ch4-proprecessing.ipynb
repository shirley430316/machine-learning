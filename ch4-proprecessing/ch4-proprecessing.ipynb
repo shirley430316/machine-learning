{
 "cells": [
  {
   "cell_type": "markdown",
   "metadata": {},
   "source": [
    "### Identifying missing values in tabular data\n",
    "\n",
    "Transform the CSV file to pandas.DataFrame"
   ]
  },
  {
   "cell_type": "code",
   "execution_count": 54,
   "metadata": {},
   "outputs": [
    {
     "name": "stdout",
     "output_type": "stream",
     "text": [
      "         A     B     C    D\n",
      "type1  1.0   2.0   3.0  4.0\n",
      "type2  5.0   6.0   NaN  8.0\n",
      "type3  9.0  10.0  11.0  NaN\n"
     ]
    }
   ],
   "source": [
    "import pandas as pd \n",
    "from io import StringIO\n",
    "\n",
    "csv_data = \"csv-file\"\n",
    "\n",
    "df = pd.read_csv(csv_data)\n",
    "print(df)"
   ]
  },
  {
   "cell_type": "markdown",
   "metadata": {},
   "source": [
    "##### Omit invalid data"
   ]
  },
  {
   "cell_type": "markdown",
   "metadata": {},
   "source": [
    "##### Impute missing values\n",
    "\n",
    "Mean, median, the most frequent value"
   ]
  },
  {
   "cell_type": "code",
   "execution_count": 55,
   "metadata": {},
   "outputs": [
    {
     "name": "stdout",
     "output_type": "stream",
     "text": [
      "[[ 1.  2.  3.  4.]\n",
      " [ 5.  6.  7.  8.]\n",
      " [ 9. 10. 11.  6.]]\n"
     ]
    },
    {
     "name": "stderr",
     "output_type": "stream",
     "text": [
      "/Users/xuelisun/anaconda3/lib/python3.11/site-packages/sklearn/base.py:486: UserWarning: X has feature names, but SimpleImputer was fitted without feature names\n",
      "  warnings.warn(\n"
     ]
    }
   ],
   "source": [
    "from sklearn.impute import SimpleImputer\n",
    "import numpy as np\n",
    "imr = SimpleImputer(missing_values=np.nan, strategy='mean')\n",
    "imr = imr.fit(df.values)\n",
    "df = imr.transform(df)\n",
    "\n",
    "print(df)"
   ]
  },
  {
   "cell_type": "markdown",
   "metadata": {},
   "source": [
    "## Handle categorical data\n",
    "\n",
    "Transform categories to number.\n",
    "* Simply use python dictionary (if it were simple)\n",
    "* Call LabelEncoder()"
   ]
  },
  {
   "cell_type": "code",
   "execution_count": 56,
   "metadata": {},
   "outputs": [
    {
     "name": "stdout",
     "output_type": "stream",
     "text": [
      "   color size  price classlabel\n",
      "0  green    M   10.1     class1\n",
      "1    red    L   13.5     class2\n",
      "2   blue   XL   15.3     class1\n"
     ]
    }
   ],
   "source": [
    "# explicitly import data\n",
    "\n",
    "jersey_df = pd.DataFrame(\n",
    "    [['green', 'M', 10.1, 'class1'],\n",
    "    ['red', 'L', 13.5, 'class2'],\n",
    "    ['blue', 'XL', 15.3, 'class1']]\n",
    ")\n",
    "jersey_df.columns = ['color', 'size', 'price', 'classlabel']\n",
    "print(jersey_df)"
   ]
  },
  {
   "cell_type": "code",
   "execution_count": 57,
   "metadata": {},
   "outputs": [
    {
     "name": "stdout",
     "output_type": "stream",
     "text": [
      "0     M\n",
      "1     L\n",
      "2    XL\n",
      "Name: size, dtype: object\n",
      "\n",
      "   color  size  price classlabel\n",
      "0  green     1   10.1     class1\n",
      "1    red     2   13.5     class2\n",
      "2   blue     3   15.3     class1\n",
      "\n",
      "   color size  price classlabel\n",
      "0  green    M   10.1     class1\n",
      "1    red    L   13.5     class2\n",
      "2   blue   XL   15.3     class1\n"
     ]
    }
   ],
   "source": [
    "size_mapping = {\n",
    "    'M': 1,\n",
    "    'L': 2,\n",
    "    'XL': 3\n",
    "}\n",
    "inv_size_mapping = {s: n for n, s in size_mapping.items()}\n",
    "\n",
    "print(jersey_df['size'])\n",
    "print()\n",
    "\n",
    "jersey_df['size'] = jersey_df['size'].map(size_mapping)\n",
    "print(jersey_df)\n",
    "print()\n",
    "\n",
    "jersey_df['size'] = jersey_df['size'].map(inv_size_mapping)\n",
    "print(jersey_df)\n",
    "\n",
    "jersey_df['size'] = jersey_df['size'].map(size_mapping)"
   ]
  },
  {
   "cell_type": "code",
   "execution_count": 58,
   "metadata": {},
   "outputs": [
    {
     "name": "stdout",
     "output_type": "stream",
     "text": [
      "{'class1': 0, 'class2': 1}\n",
      "   color  size  price  classlabel\n",
      "0  green     1   10.1           0\n",
      "1    red     2   13.5           1\n",
      "2   blue     3   15.3           0\n"
     ]
    }
   ],
   "source": [
    "# call enumerate rather than hard coding\n",
    "class_mapping = {label: idx for idx, label in enumerate(jersey_df['classlabel'].unique())}\n",
    "print(class_mapping)\n",
    "\n",
    "jersey_df['classlabel'] = jersey_df['classlabel'].map(class_mapping)\n",
    "print(jersey_df)"
   ]
  },
  {
   "cell_type": "code",
   "execution_count": 59,
   "metadata": {},
   "outputs": [
    {
     "name": "stdout",
     "output_type": "stream",
     "text": [
      "[['green' 1 10.1]\n",
      " ['red' 2 13.5]\n",
      " ['blue' 3 15.3]]\n"
     ]
    },
    {
     "data": {
      "text/plain": [
       "array([1, 2, 0])"
      ]
     },
     "execution_count": 59,
     "metadata": {},
     "output_type": "execute_result"
    }
   ],
   "source": [
    "# one-hot encoding on nominal features\n",
    "# nominal feature: feat. without numerical relation\n",
    "# e.g. red cannot compare with green\n",
    "\n",
    "from sklearn.preprocessing import LabelEncoder\n",
    "\n",
    "X = jersey_df[['color', 'size', 'price']].values\n",
    "print(X)\n",
    "\n",
    "color_le = LabelEncoder()\n",
    "color_le.fit_transform(jersey_df['color'].values)\n",
    "\n",
    "# color_le is array([1, 2, 0]), which is too numerical\n",
    "# thus we'd better use one-hot encoder"
   ]
  },
  {
   "cell_type": "code",
   "execution_count": 60,
   "metadata": {},
   "outputs": [
    {
     "name": "stdout",
     "output_type": "stream",
     "text": [
      "[array(['blue', 'green', 'red'], dtype=object)]\n",
      "['color_blue' 'color_green' 'color_red']\n"
     ]
    }
   ],
   "source": [
    "from sklearn.preprocessing import OneHotEncoder\n",
    "\n",
    "ohe = OneHotEncoder()    # column 0\n",
    "ohe.fit_transform(jersey_df[['color']])\n",
    "\n",
    "print(ohe.categories_)\n",
    "print(ohe.get_feature_names_out())"
   ]
  },
  {
   "cell_type": "code",
   "execution_count": 61,
   "metadata": {},
   "outputs": [
    {
     "data": {
      "text/html": [
       "<div>\n",
       "<style scoped>\n",
       "    .dataframe tbody tr th:only-of-type {\n",
       "        vertical-align: middle;\n",
       "    }\n",
       "\n",
       "    .dataframe tbody tr th {\n",
       "        vertical-align: top;\n",
       "    }\n",
       "\n",
       "    .dataframe thead th {\n",
       "        text-align: right;\n",
       "    }\n",
       "</style>\n",
       "<table border=\"1\" class=\"dataframe\">\n",
       "  <thead>\n",
       "    <tr style=\"text-align: right;\">\n",
       "      <th></th>\n",
       "      <th>price</th>\n",
       "      <th>size</th>\n",
       "      <th>color_green</th>\n",
       "      <th>color_red</th>\n",
       "    </tr>\n",
       "  </thead>\n",
       "  <tbody>\n",
       "    <tr>\n",
       "      <th>0</th>\n",
       "      <td>10.1</td>\n",
       "      <td>1</td>\n",
       "      <td>True</td>\n",
       "      <td>False</td>\n",
       "    </tr>\n",
       "    <tr>\n",
       "      <th>1</th>\n",
       "      <td>13.5</td>\n",
       "      <td>2</td>\n",
       "      <td>False</td>\n",
       "      <td>True</td>\n",
       "    </tr>\n",
       "    <tr>\n",
       "      <th>2</th>\n",
       "      <td>15.3</td>\n",
       "      <td>3</td>\n",
       "      <td>False</td>\n",
       "      <td>False</td>\n",
       "    </tr>\n",
       "  </tbody>\n",
       "</table>\n",
       "</div>"
      ],
      "text/plain": [
       "   price  size  color_green  color_red\n",
       "0   10.1     1         True      False\n",
       "1   13.5     2        False       True\n",
       "2   15.3     3        False      False"
      ]
     },
     "execution_count": 61,
     "metadata": {},
     "output_type": "execute_result"
    }
   ],
   "source": [
    "pd.get_dummies(jersey_df[['price', 'color', 'size']],\n",
    "               drop_first=True)\n",
    "# drop_first maintains that the matrix is still of full rank"
   ]
  },
  {
   "cell_type": "markdown",
   "metadata": {},
   "source": [
    "### Partition a dataset into separate training and test sets"
   ]
  },
  {
   "cell_type": "code",
   "execution_count": 62,
   "metadata": {},
   "outputs": [],
   "source": [
    "df_wine = pd.read_csv(\"./wine/wine.data\", header=None)\n",
    "\n",
    "df_wine.columns = ['Class label', 'Alcohol', \n",
    "                   'Malic acid', 'Ash',\n",
    "                   'Alcalinity of ash', 'Magnisium',\n",
    "                   'Total phenols', 'Flavanoids',\n",
    "                   'Nonflavanoid phenols',\n",
    "                   'Proanthocyanins',\n",
    "                   'Color intensity', 'Hue',\n",
    "                   'OD280/)D315 of diluted wines',\n",
    "                   'Proline']\n",
    "\n",
    "# familiar way: train_test_split\n",
    "from sklearn.model_selection import train_test_split\n",
    "X, y = df_wine.iloc[:, 1:], df_wine.iloc[:, 0]\n",
    "X_train, X_test, y_train, y_test =\\\n",
    "    train_test_split(X, y,\n",
    "                     test_size=0.3,\n",
    "                     random_state=0,\n",
    "                     stratify=y)"
   ]
  },
  {
   "cell_type": "markdown",
   "metadata": {},
   "source": [
    "### Bring to scale: Normalization and Standardization\n",
    "\n",
    "* Normalization: scale to [0,1]\n",
    "* Standardization: scale based on mean and standard deviation"
   ]
  },
  {
   "cell_type": "code",
   "execution_count": 63,
   "metadata": {},
   "outputs": [
    {
     "name": "stderr",
     "output_type": "stream",
     "text": [
      "/Users/xuelisun/anaconda3/lib/python3.11/site-packages/numpy/core/fromnumeric.py:3603: FutureWarning: The behavior of DataFrame.std with axis=None is deprecated, in a future version this will reduce over both axes and return a scalar. To retain the old behavior, pass axis=0 (or do not pass axis)\n",
      "  return std(axis=axis, dtype=dtype, out=out, ddof=ddof, **kwargs)\n"
     ]
    }
   ],
   "source": [
    "# manually implement\n",
    "X_train_norm = (X_train - np.min(X_train)) / (np.max(X_train) - np.min(X_train))\n",
    "from IPython.display import display\n",
    "#display(X_train_norm)\n",
    "\n",
    "X_train_std = (X_train - np.mean(X_train)) / np.std(X_train)\n",
    "#display(X_train_std)"
   ]
  },
  {
   "cell_type": "code",
   "execution_count": 64,
   "metadata": {},
   "outputs": [],
   "source": [
    "# call from sklearn package\n",
    "from sklearn.preprocessing import MinMaxScaler\n",
    "mms = MinMaxScaler()\n",
    "X_train_norm = mms.fit_transform(X_train)\n",
    "X_test_norm = mms.fit_transform(X_test)\n",
    "\n",
    "from sklearn.preprocessing import StandardScaler\n",
    "ss = StandardScaler()\n",
    "X_train_std = ss.fit_transform(X_train)\n",
    "X_test_std = ss.fit_transform(X_test)"
   ]
  },
  {
   "cell_type": "markdown",
   "metadata": {},
   "source": [
    "### Select meaningful features\n",
    "* Introduce suitable penalty functions. \n",
    "    - L1: lambda * (sum of |w|)\n",
    "    - L2: lambda * (sum of |w|**2)"
   ]
  },
  {
   "cell_type": "code",
   "execution_count": 65,
   "metadata": {},
   "outputs": [
    {
     "name": "stdout",
     "output_type": "stream",
     "text": [
      "Training accuracy:  1.0\n",
      "Testing accuracy:  1.0\n"
     ]
    }
   ],
   "source": [
    "from sklearn.linear_model import LogisticRegression\n",
    "lr = LogisticRegression(penalty='l1', C=1, solver='liblinear')\n",
    "lr.fit(X_train_std, y_train)\n",
    "print('Training accuracy: ', lr.score(X_train_std, y_train))\n",
    "print('Testing accuracy: ', lr.score(X_test_std, y_test))"
   ]
  },
  {
   "cell_type": "code",
   "execution_count": 66,
   "metadata": {},
   "outputs": [
    {
     "name": "stdout",
     "output_type": "stream",
     "text": [
      "[-1.26352265 -1.21569645 -2.37028507]\n",
      "[[ 1.24581293  0.18052504  0.74471044 -1.16242115  0.          0.\n",
      "   1.16580052  0.          0.          0.          0.          0.55124063\n",
      "   2.50984176]\n",
      " [-1.53948343 -0.38542429 -0.9956672   0.3637683  -0.058817    0.\n",
      "   0.66675154  0.          0.         -1.93192695  1.23773283  0.\n",
      "  -2.23248424]\n",
      " [ 0.13559212  0.16851783  0.35712358  0.          0.          0.\n",
      "  -2.43794514  0.          0.          1.56376023 -0.81876899 -0.49234853\n",
      "   0.        ]]\n"
     ]
    }
   ],
   "source": [
    "print(lr.intercept_)    # 截距\n",
    "print(lr.coef_)"
   ]
  },
  {
   "cell_type": "code",
   "execution_count": 67,
   "metadata": {},
   "outputs": [],
   "source": [
    "# # smaller the C, larger the lambda --> smaller w\n",
    "\n",
    "# # following is written by github copilot\n",
    "# import numpy as np\n",
    "# import matplotlib.pyplot as plt\n",
    "# from sklearn.linear_model import LogisticRegression\n",
    "# from sklearn.datasets import make_classification\n",
    "# from sklearn.preprocessing import StandardScaler\n",
    "\n",
    "# # Generate a synthetic dataset\n",
    "# X, y = make_classification(n_samples=100, n_features=10, random_state=42)\n",
    "# scaler = StandardScaler()\n",
    "# X_train_std = scaler.fit_transform(X)\n",
    "\n",
    "# # Define a range of C values\n",
    "# C_values = np.logspace(-4, 4, 10)\n",
    "\n",
    "# weights = []\n",
    "\n",
    "# # Fit a logistic regression model for each value of C\n",
    "# for C in C_values:\n",
    "#     lr = LogisticRegression(penalty='l1', C=C, solver='liblinear')\n",
    "#     lr.fit(X_train_std, y)\n",
    "#     weights.append(lr.coef_[0])\n",
    "\n",
    "# weights = np.array(weights)\n",
    "\n",
    "# # Plot the weights\n",
    "# plt.figure(figsize=(10, 6))\n",
    "# for i in range(weights.shape[1]):\n",
    "#     plt.plot(1/C_values, weights[:, i], label=f'Feature {i+1}')\n",
    "\n",
    "# plt.xscale('log')\n",
    "# plt.xlabel('1/C (log scale)')\n",
    "# plt.ylabel('Weight coefficient')\n",
    "# plt.title('Effect of regularization (1/C) on weight coefficients')\n",
    "# plt.legend(loc='upper right')\n",
    "# plt.grid(True)\n",
    "# plt.show()"
   ]
  },
  {
   "cell_type": "markdown",
   "metadata": {},
   "source": [
    "### Sequential feature selection algorithm\n"
   ]
  },
  {
   "cell_type": "code",
   "execution_count": 76,
   "metadata": {},
   "outputs": [],
   "source": [
    "from sklearn.base import clone\n",
    "from itertools import combinations\n",
    "from sklearn.metrics import accuracy_score\n",
    "from sklearn.model_selection import train_test_split\n",
    "\n",
    "class SBS():\n",
    "    def __init__(self, estimator, k_features,\n",
    "                 scoring=accuracy_score,\n",
    "                 test_size=0.25, random_state=1):\n",
    "        self.scoring = scoring      # evaluate the performance of a model\n",
    "        self.estimator = clone(estimator)\n",
    "        self.k_features = k_features\n",
    "        self.test_size = test_size\n",
    "        self.random_state = random_state\n",
    "    \n",
    "    def fit(self, X, y):\n",
    "        X_train, X_test, y_train, y_test = \\\n",
    "                    train_test_split(X, y,\n",
    "                                     test_size=self.test_size,\n",
    "                                     random_state=1)\n",
    "        dim = X_train.shape[1]  # numbers of initial features\n",
    "        self.indices_ = tuple(range(dim))\n",
    "        self.subsets_ = [self.indices_]\n",
    "        score = self._calc_score(X_train, y_train, X_test, y_test, self.indices_)\n",
    "        self.scores_ = [score]\n",
    "\n",
    "        while dim > self.k_features:\n",
    "            scores = []\n",
    "            subsets = []\n",
    "\n",
    "            # get combinations of (current dim-1) elements from indices_\n",
    "            for p in combinations(self.indices_, r=dim-1):\n",
    "\n",
    "                # calculate the score for subset p\n",
    "                score = self._calc_score(X_train, y_train, X_test, y_test, p)\n",
    "                scores.append(score)\n",
    "                subsets.append(p)\n",
    "\n",
    "            best = np.argmax(score)\n",
    "            self.indices_ = subsets[best]   # scale dimension down by 1\n",
    "            self.subsets_.append(self.indices_) # subsets_ take record of current indices\n",
    "            dim -= 1\n",
    "\n",
    "            self.scores_.append(scores[best])   # record the best score of r features\n",
    "        \n",
    "        self.k_score_ = self.scores_[-1]    # the last score is the score of k_features\n",
    "\n",
    "        return self\n",
    "\n",
    "    def transform(self, X):\n",
    "        return X[:, self.indices_]\n",
    "    \n",
    "    def _calc_score(self, X_train, y_train, X_test, y_test,\n",
    "                    indices):\n",
    "        self.estimator.fit(X_train[:, indices], y_train)\n",
    "        y_pred = self.estimator.predict(X_test[:, indices])\n",
    "        score = self.scoring(y_test, y_pred)\n",
    "        return score"
   ]
  },
  {
   "cell_type": "code",
   "execution_count": 85,
   "metadata": {},
   "outputs": [
    {
     "name": "stdout",
     "output_type": "stream",
     "text": [
      "13\n"
     ]
    },
    {
     "data": {
      "image/png": "[encoded data removed]",
      "text/plain": [
       "<Figure size 640x480 with 1 Axes>"
      ]
     },
     "metadata": {},
     "output_type": "display_data"
    }
   ],
   "source": [
    "import matplotlib.pyplot as plt\n",
    "from sklearn.neighbors import KNeighborsClassifier\n",
    "\n",
    "knn = KNeighborsClassifier(n_neighbors=5)\n",
    "sbs = SBS(knn, k_features=1)\n",
    "sbs.fit(X_train_std, y_train)\n",
    "\n",
    "k_feat = [len(k) for k in sbs.subsets_]\n",
    "# num of sbs.subsets_ = num of scaled features\n",
    "\n",
    "print(len(k_feat))\n",
    "\n",
    "plt.plot(k_feat, sbs.scores_, marker='o')\n",
    "# plt.ylim([0.7, 1.02])\n",
    "plt.ylabel('Accuracy')\n",
    "plt.xlabel('Number of features')\n",
    "plt.grid()\n",
    "plt.show()"
   ]
  },
  {
   "cell_type": "code",
   "execution_count": 95,
   "metadata": {},
   "outputs": [
    {
     "name": "stdout",
     "output_type": "stream",
     "text": [
      "Index(['Alcohol', 'Malic acid'], dtype='object')\n"
     ]
    }
   ],
   "source": [
    "k2 = list(sbs.subsets_[11])\n",
    "print(df_wine.columns[1:][k2])"
   ]
  },
  {
   "cell_type": "code",
   "execution_count": 98,
   "metadata": {},
   "outputs": [
    {
     "name": "stdout",
     "output_type": "stream",
     "text": [
      " 1)Proline                        0.185453\n",
      " 2)Flavanoids                     0.174751\n",
      " 3)Color intensity                0.143920\n",
      " 4)OD280/)D315 of diluted wines   0.136162\n",
      " 5)Alcohol                        0.118529\n",
      " 6)Hue                            0.058739\n",
      " 7)Total phenols                  0.050872\n",
      " 8)Magnisium                      0.031357\n",
      " 9)Malic acid                     0.025648\n",
      "10)Proanthocyanins                0.025570\n",
      "11)Alcalinity of ash              0.022366\n",
      "12)Nonflavanoid phenols           0.013354\n",
      "13)Ash                            0.013279\n"
     ]
    },
    {
     "data": {
      "image/png": "[encoded data removed]",
      "text/plain": [
       "<Figure size 640x480 with 1 Axes>"
      ]
     },
     "metadata": {},
     "output_type": "display_data"
    }
   ],
   "source": [
    "# Assessing feature importance with random forests\n",
    "\n",
    "from sklearn.ensemble import RandomForestClassifier\n",
    "\n",
    "feat_labels = df_wine.columns[1:]\n",
    "forest = RandomForestClassifier(n_estimators=500, random_state=1)\n",
    "forest.fit(X_train, y_train)\n",
    "importances = forest.feature_importances_\n",
    "\n",
    "indices = np.argsort(importances)[::-1]\n",
    "\n",
    "for f in range(X_train.shape[1]):\n",
    "    print('%2d) %-*s %f' % (f+1, 30, \n",
    "                            feat_labels[indices[f]],\n",
    "                            importances[indices[f]]))\n",
    "\n",
    "plt.title('Feature Importance')\n",
    "plt.bar(range(X_train.shape[1]),\n",
    "        importances[indices],\n",
    "        align='center')\n",
    "plt.xticks(range(X_train.shape[1]),\n",
    "        feat_labels, rotation=90)\n",
    "plt.xlim([-1, X_train.shape[1]])\n",
    "plt.tight_layout()\n",
    "plt.show()"
   ]
  }
 ],
 "metadata": {
  "kernelspec": {
   "display_name": "base",
   "language": "python",
   "name": "python3"
  },
  "language_info": {
   "codemirror_mode": {
    "name": "ipython",
    "version": 3
   },
   "file_extension": ".py",
   "mimetype": "text/x-python",
   "name": "python",
   "nbconvert_exporter": "python",
   "pygments_lexer": "ipython3",
   "version": "3.11.11"
  },
  "orig_nbformat": 4
 },
 "nbformat": 4,
 "nbformat_minor": 2
}

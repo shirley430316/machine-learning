{
 "cells": [
  {
   "cell_type": "markdown",
   "metadata": {},
   "source": [
    "### Identifying missing values in tabular data\n",
    "\n",
    "Transform the CSV file to pandas.DataFrame"
   ]
  },
  {
   "cell_type": "code",
   "execution_count": 32,
   "metadata": {},
   "outputs": [
    {
     "name": "stdout",
     "output_type": "stream",
     "text": [
      "         A     B     C    D\n",
      "type1  1.0   2.0   3.0  4.0\n",
      "type2  5.0   6.0   NaN  8.0\n",
      "type3  9.0  10.0  11.0  NaN\n"
     ]
    }
   ],
   "source": [
    "import pandas as pd \n",
    "from io import StringIO\n",
    "\n",
    "csv_data = \"csv-file\"\n",
    "\n",
    "df = pd.read_csv(csv_data)\n",
    "print(df)"
   ]
  },
  {
   "cell_type": "markdown",
   "metadata": {},
   "source": [
    "##### Omit invalid data"
   ]
  },
  {
   "cell_type": "markdown",
   "metadata": {},
   "source": [
    "##### Impute missing values\n",
    "\n",
    "Mean, median, the most frequent value"
   ]
  },
  {
   "cell_type": "code",
   "execution_count": 33,
   "metadata": {},
   "outputs": [
    {
     "name": "stdout",
     "output_type": "stream",
     "text": [
      "[[ 1.  2.  3.  4.]\n",
      " [ 5.  6.  7.  8.]\n",
      " [ 9. 10. 11.  6.]]\n"
     ]
    },
    {
     "name": "stderr",
     "output_type": "stream",
     "text": [
      "/Users/xuelisun/anaconda3/lib/python3.11/site-packages/sklearn/base.py:486: UserWarning: X has feature names, but SimpleImputer was fitted without feature names\n",
      "  warnings.warn(\n"
     ]
    }
   ],
   "source": [
    "from sklearn.impute import SimpleImputer\n",
    "import numpy as np\n",
    "imr = SimpleImputer(missing_values=np.nan, strategy='mean')\n",
    "imr = imr.fit(df.values)\n",
    "df = imr.transform(df)\n",
    "\n",
    "print(df)"
   ]
  },
  {
   "cell_type": "markdown",
   "metadata": {},
   "source": [
    "## Handle categorical data\n",
    "\n",
    "Transform categories to number.\n",
    "* Simply use python dictionary (if it were simple)\n",
    "* Call LabelEncoder()"
   ]
  },
  {
   "cell_type": "code",
   "execution_count": 34,
   "metadata": {},
   "outputs": [
    {
     "name": "stdout",
     "output_type": "stream",
     "text": [
      "   color size  price classlabel\n",
      "0  green    M   10.1     class1\n",
      "1    red    L   13.5     class2\n",
      "2   blue   XL   15.3     class1\n"
     ]
    }
   ],
   "source": [
    "# explicitly import data\n",
    "\n",
    "jersey_df = pd.DataFrame(\n",
    "    [['green', 'M', 10.1, 'class1'],\n",
    "    ['red', 'L', 13.5, 'class2'],\n",
    "    ['blue', 'XL', 15.3, 'class1']]\n",
    ")\n",
    "jersey_df.columns = ['color', 'size', 'price', 'classlabel']\n",
    "print(jersey_df)"
   ]
  },
  {
   "cell_type": "code",
   "execution_count": 35,
   "metadata": {},
   "outputs": [
    {
     "name": "stdout",
     "output_type": "stream",
     "text": [
      "0     M\n",
      "1     L\n",
      "2    XL\n",
      "Name: size, dtype: object\n",
      "\n",
      "   color  size  price classlabel\n",
      "0  green     1   10.1     class1\n",
      "1    red     2   13.5     class2\n",
      "2   blue     3   15.3     class1\n",
      "\n",
      "   color size  price classlabel\n",
      "0  green    M   10.1     class1\n",
      "1    red    L   13.5     class2\n",
      "2   blue   XL   15.3     class1\n"
     ]
    }
   ],
   "source": [
    "size_mapping = {\n",
    "    'M': 1,\n",
    "    'L': 2,\n",
    "    'XL': 3\n",
    "}\n",
    "inv_size_mapping = {s: n for n, s in size_mapping.items()}\n",
    "\n",
    "print(jersey_df['size'])\n",
    "print()\n",
    "\n",
    "jersey_df['size'] = jersey_df['size'].map(size_mapping)\n",
    "print(jersey_df)\n",
    "print()\n",
    "\n",
    "jersey_df['size'] = jersey_df['size'].map(inv_size_mapping)\n",
    "print(jersey_df)\n",
    "\n",
    "jersey_df['size'] = jersey_df['size'].map(size_mapping)"
   ]
  },
  {
   "cell_type": "code",
   "execution_count": 36,
   "metadata": {},
   "outputs": [
    {
     "name": "stdout",
     "output_type": "stream",
     "text": [
      "{'class1': 0, 'class2': 1}\n",
      "   color  size  price  classlabel\n",
      "0  green     1   10.1           0\n",
      "1    red     2   13.5           1\n",
      "2   blue     3   15.3           0\n"
     ]
    }
   ],
   "source": [
    "# call enumerate rather than hard coding\n",
    "class_mapping = {label: idx for idx, label in enumerate(jersey_df['classlabel'].unique())}\n",
    "print(class_mapping)\n",
    "\n",
    "jersey_df['classlabel'] = jersey_df['classlabel'].map(class_mapping)\n",
    "print(jersey_df)"
   ]
  },
  {
   "cell_type": "code",
   "execution_count": 43,
   "metadata": {},
   "outputs": [
    {
     "name": "stdout",
     "output_type": "stream",
     "text": [
      "[['green' 1 10.1]\n",
      " ['red' 2 13.5]\n",
      " ['blue' 3 15.3]]\n"
     ]
    },
    {
     "data": {
      "text/plain": [
       "array([1, 2, 0])"
      ]
     },
     "execution_count": 43,
     "metadata": {},
     "output_type": "execute_result"
    }
   ],
   "source": [
    "# one-hot encoding on nominal features\n",
    "# nominal feature: feat. without numerical relation\n",
    "# e.g. red cannot compare with green\n",
    "\n",
    "from sklearn.preprocessing import LabelEncoder\n",
    "\n",
    "X = jersey_df[['color', 'size', 'price']].values\n",
    "print(X)\n",
    "\n",
    "color_le = LabelEncoder()\n",
    "color_le.fit_transform(jersey_df['color'].values)\n",
    "\n",
    "# color_le is array([1, 2, 0]), which is too numerical\n",
    "# thus we'd better use one-hot encoder"
   ]
  },
  {
   "cell_type": "code",
   "execution_count": 64,
   "metadata": {},
   "outputs": [
    {
     "name": "stdout",
     "output_type": "stream",
     "text": [
      "[array(['blue', 'green', 'red'], dtype=object)]\n",
      "['color_blue' 'color_green' 'color_red']\n"
     ]
    }
   ],
   "source": [
    "from sklearn.preprocessing import OneHotEncoder\n",
    "\n",
    "ohe = OneHotEncoder()    # column 0\n",
    "ohe.fit_transform(jersey_df[['color']])\n",
    "\n",
    "print(ohe.categories_)\n",
    "print(ohe.get_feature_names_out())"
   ]
  },
  {
   "cell_type": "code",
   "execution_count": 67,
   "metadata": {},
   "outputs": [
    {
     "data": {
      "text/html": [
       "<div>\n",
       "<style scoped>\n",
       "    .dataframe tbody tr th:only-of-type {\n",
       "        vertical-align: middle;\n",
       "    }\n",
       "\n",
       "    .dataframe tbody tr th {\n",
       "        vertical-align: top;\n",
       "    }\n",
       "\n",
       "    .dataframe thead th {\n",
       "        text-align: right;\n",
       "    }\n",
       "</style>\n",
       "<table border=\"1\" class=\"dataframe\">\n",
       "  <thead>\n",
       "    <tr style=\"text-align: right;\">\n",
       "      <th></th>\n",
       "      <th>price</th>\n",
       "      <th>size</th>\n",
       "      <th>color_green</th>\n",
       "      <th>color_red</th>\n",
       "    </tr>\n",
       "  </thead>\n",
       "  <tbody>\n",
       "    <tr>\n",
       "      <th>0</th>\n",
       "      <td>10.1</td>\n",
       "      <td>1</td>\n",
       "      <td>True</td>\n",
       "      <td>False</td>\n",
       "    </tr>\n",
       "    <tr>\n",
       "      <th>1</th>\n",
       "      <td>13.5</td>\n",
       "      <td>2</td>\n",
       "      <td>False</td>\n",
       "      <td>True</td>\n",
       "    </tr>\n",
       "    <tr>\n",
       "      <th>2</th>\n",
       "      <td>15.3</td>\n",
       "      <td>3</td>\n",
       "      <td>False</td>\n",
       "      <td>False</td>\n",
       "    </tr>\n",
       "  </tbody>\n",
       "</table>\n",
       "</div>"
      ],
      "text/plain": [
       "   price  size  color_green  color_red\n",
       "0   10.1     1         True      False\n",
       "1   13.5     2        False       True\n",
       "2   15.3     3        False      False"
      ]
     },
     "execution_count": 67,
     "metadata": {},
     "output_type": "execute_result"
    }
   ],
   "source": [
    "pd.get_dummies(jersey_df[['price', 'color', 'size']],\n",
    "               drop_first=True)\n",
    "# drop_first maintains that the matrix is still of full rank"
   ]
  }
 ],
 "metadata": {
  "kernelspec": {
   "display_name": "base",
   "language": "python",
   "name": "python3"
  },
  "language_info": {
   "codemirror_mode": {
    "name": "ipython",
    "version": 3
   },
   "file_extension": ".py",
   "mimetype": "text/x-python",
   "name": "python",
   "nbconvert_exporter": "python",
   "pygments_lexer": "ipython3",
   "version": "3.11.11"
  },
  "orig_nbformat": 4
 },
 "nbformat": 4,
 "nbformat_minor": 2
}
